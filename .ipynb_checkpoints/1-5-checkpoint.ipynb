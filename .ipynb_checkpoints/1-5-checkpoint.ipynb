{
 "cells": [
  {
   "cell_type": "markdown",
   "id": "0ef35a75",
   "metadata": {},
   "source": [
    "《数字图像处理与Python实现》\n",
    "作者：岳亚伟\n",
    "出版社：人民邮电出版社\n",
    "出版时间：2020-01\n",
    "ISBN：9787115527912"
   ]
  },
  {
   "cell_type": "code",
   "execution_count": 2,
   "id": "612c7f55-5650-4422-8765-48911961685d",
   "metadata": {},
   "outputs": [],
   "source": [
    "from skimage import data"
   ]
  },
  {
   "cell_type": "code",
   "execution_count": 4,
   "id": "95414495",
   "metadata": {},
   "outputs": [],
   "source": [
    "from matplotlib import pyplot as plt"
   ]
  },
  {
   "cell_type": "code",
   "execution_count": 5,
   "id": "10cb87c4",
   "metadata": {},
   "outputs": [],
   "source": [
    "import numpy as np"
   ]
  },
  {
   "cell_type": "code",
   "execution_count": 6,
   "id": "e6a25db6",
   "metadata": {},
   "outputs": [],
   "source": [
    "image = data.coffee()"
   ]
  },
  {
   "cell_type": "code",
   "execution_count": 8,
   "id": "d9e1e89a",
   "metadata": {},
   "outputs": [
    {
     "name": "stdout",
     "output_type": "stream",
     "text": [
      "(400, 600, 3)\n"
     ]
    }
   ],
   "source": [
    "print(image.shape)"
   ]
  },
  {
   "cell_type": "code",
   "execution_count": 9,
   "id": "2d668681",
   "metadata": {},
   "outputs": [
    {
     "name": "stdout",
     "output_type": "stream",
     "text": [
      "<class 'numpy.ndarray'>\n"
     ]
    }
   ],
   "source": [
    "print(type(image))"
   ]
  },
  {
   "cell_type": "code",
   "execution_count": 10,
   "id": "2538345a",
   "metadata": {},
   "outputs": [],
   "source": [
    "ratio=20"
   ]
  },
  {
   "cell_type": "code",
   "execution_count": 13,
   "id": "dc6369a4",
   "metadata": {},
   "outputs": [],
   "source": [
    "image1 = np.zeros((int(image.shape[0]/ratio),int(image.shape[1]/ratio),image.shape[2]),dtype='int32')"
   ]
  },
  {
   "cell_type": "code",
   "execution_count": 15,
   "id": "06e9b6fc",
   "metadata": {},
   "outputs": [
    {
     "name": "stdout",
     "output_type": "stream",
     "text": [
      "(20, 30, 3)\n"
     ]
    }
   ],
   "source": [
    "print(image1.shape)"
   ]
  },
  {
   "cell_type": "code",
   "execution_count": 16,
   "id": "6d7e965b",
   "metadata": {},
   "outputs": [
    {
     "data": {
      "image/png": "[encoded data removed]",
      "text/plain": [
       "<Figure size 432x288 with 1 Axes>"
      ]
     },
     "metadata": {
      "needs_background": "light"
     },
     "output_type": "display_data"
    }
   ],
   "source": [
    "for i in range(image1.shape[0]):\n",
    "    for j in range(image1.shape[1]):\n",
    "        for k in range(image1.shape[2]):\n",
    "            delta = image[i*ratio:(i+1)*ratio,j*ratio:(j+1)*ratio,k]\n",
    "            image1[i,j,k]=np.mean(delta)\n",
    "plt.imshow(image1)\n",
    "plt.show()"
   ]
  }
 ],
 "metadata": {
  "kernelspec": {
   "display_name": "Python 3 (ipykernel)",
   "language": "python",
   "name": "python3"
  },
  "language_info": {
   "codemirror_mode": {
    "name": "ipython",
    "version": 3
   },
   "file_extension": ".py",
   "mimetype": "text/x-python",
   "name": "python",
   "nbconvert_exporter": "python",
   "pygments_lexer": "ipython3",
   "version": "3.9.7"
  }
 },
 "nbformat": 4,
 "nbformat_minor": 5
}
